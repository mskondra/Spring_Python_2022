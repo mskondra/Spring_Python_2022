{
 "cells": [
  {
   "cell_type": "markdown",
   "id": "8c7b0ae1",
   "metadata": {},
   "source": [
    "Кондрашова Анастасия\n",
    "НПМбд-01-19"
   ]
  },
  {
   "cell_type": "markdown",
   "id": "cedfc967",
   "metadata": {},
   "source": [
    "Четные индексы"
   ]
  },
  {
   "cell_type": "code",
   "execution_count": 6,
   "id": "21b96e13",
   "metadata": {
    "scrolled": true
   },
   "outputs": [
    {
     "name": "stdout",
     "output_type": "stream",
     "text": [
      "1 2 3 4 5\n",
      "1 3 5\n"
     ]
    }
   ],
   "source": [
    "print(' '.join(input().split()[::2]))"
   ]
  },
  {
   "cell_type": "markdown",
   "id": "9c41076d",
   "metadata": {},
   "source": [
    "Наибольший элемент и его индекс "
   ]
  },
  {
   "cell_type": "code",
   "execution_count": 12,
   "id": "6dc4b0b5",
   "metadata": {
    "scrolled": true
   },
   "outputs": [
    {
     "name": "stdout",
     "output_type": "stream",
     "text": [
      "1 2 3 2 1\n",
      "3 2\n"
     ]
    }
   ],
   "source": [
    "A = list(map(int, input().split()))\n",
    "print(max(A), A.index(max(A)))"
   ]
  },
  {
   "cell_type": "markdown",
   "id": "b65f8946",
   "metadata": {},
   "source": [
    "Вывести в обратном порядке "
   ]
  },
  {
   "cell_type": "code",
   "execution_count": 17,
   "id": "1c0c2c81",
   "metadata": {
    "scrolled": true
   },
   "outputs": [
    {
     "name": "stdout",
     "output_type": "stream",
     "text": [
      "1 2 3 4 5\n",
      "5 4 3 2 1\n"
     ]
    }
   ],
   "source": [
    "print(' '.join(input().split()[::-1]))"
   ]
  },
  {
   "cell_type": "markdown",
   "id": "07e5ca4f",
   "metadata": {},
   "source": [
    "Переставить соседние"
   ]
  },
  {
   "cell_type": "code",
   "execution_count": 24,
   "id": "7e388e29",
   "metadata": {},
   "outputs": [
    {
     "name": "stdout",
     "output_type": "stream",
     "text": [
      "1 2 3 4 5\n",
      "2 1 4 3 5\n"
     ]
    }
   ],
   "source": [
    "A = input().split()\n",
    "A[:-1:2], A[1::2] = A[1::2], A[:-1:2]\n",
    "print(' '.join(A))"
   ]
  },
  {
   "cell_type": "markdown",
   "id": "f74055d7",
   "metadata": {},
   "source": [
    "Циклический сдвиг вправо"
   ]
  },
  {
   "cell_type": "code",
   "execution_count": 31,
   "id": "c29b7cad",
   "metadata": {},
   "outputs": [
    {
     "name": "stdout",
     "output_type": "stream",
     "text": [
      "1 2 3 4 5\n",
      "2 3 4 5 1\n"
     ]
    }
   ],
   "source": [
    "A = input().split()\n",
    "print(' '.join(A[1:]), A[0])"
   ]
  },
  {
   "cell_type": "markdown",
   "id": "540e338e",
   "metadata": {},
   "source": [
    "Удалить элемент"
   ]
  },
  {
   "cell_type": "code",
   "execution_count": 37,
   "id": "94d65d29",
   "metadata": {},
   "outputs": [
    {
     "name": "stdout",
     "output_type": "stream",
     "text": [
      "7 6 5 4 3 2 1\n",
      "2\n",
      "7 6 4 3 2 1\n"
     ]
    }
   ],
   "source": [
    "A = input().split()\n",
    "b = int(input())\n",
    "print(*A[:b], *A[b + 1:])"
   ]
  },
  {
   "cell_type": "markdown",
   "id": "c8a963e5",
   "metadata": {},
   "source": [
    "Вставить элемент "
   ]
  },
  {
   "cell_type": "code",
   "execution_count": 44,
   "id": "2bf384a0",
   "metadata": {},
   "outputs": [
    {
     "name": "stdout",
     "output_type": "stream",
     "text": [
      "7 6 5 4 3 2 1\n",
      "2 0\n",
      "7 6 0 5 4 3 2 1\n"
     ]
    }
   ],
   "source": [
    "A = input().split()\n",
    "n, elem = map(int, input().split())\n",
    "print(*A[:n], elem, *A[n:])"
   ]
  },
  {
   "cell_type": "markdown",
   "id": "e924fc33",
   "metadata": {},
   "source": [
    " Большой сдвиг"
   ]
  },
  {
   "cell_type": "code",
   "execution_count": 51,
   "id": "d75e7618",
   "metadata": {},
   "outputs": [
    {
     "name": "stdout",
     "output_type": "stream",
     "text": [
      "5 3 7 4 6\n",
      "3\n",
      "7 4 6 5 3\n"
     ]
    }
   ],
   "source": [
    "A, b = input().split(), int(input())\n",
    "print(' '.join(A[b - 1:] + A[:b - 1]))"
   ]
  }
 ],
 "metadata": {
  "kernelspec": {
   "display_name": "Python 3 (ipykernel)",
   "language": "python",
   "name": "python3"
  },
  "language_info": {
   "codemirror_mode": {
    "name": "ipython",
    "version": 3
   },
   "file_extension": ".py",
   "mimetype": "text/x-python",
   "name": "python",
   "nbconvert_exporter": "python",
   "pygments_lexer": "ipython3",
   "version": "3.9.7"
  }
 },
 "nbformat": 4,
 "nbformat_minor": 5
}
