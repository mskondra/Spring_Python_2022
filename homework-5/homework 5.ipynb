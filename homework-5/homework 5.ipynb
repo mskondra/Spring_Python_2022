{
 "cells": [
  {
   "cell_type": "markdown",
   "id": "8f86dfa4",
   "metadata": {},
   "source": [
    "Кондрашова Анастасия\n",
    "НПМбд-01-19\n",
    "LU-разложение "
   ]
  },
  {
   "cell_type": "markdown",
   "id": "ef84bf9e",
   "metadata": {},
   "source": [
    "Импортируем нужные нам библиотеки"
   ]
  },
  {
   "cell_type": "code",
   "execution_count": 1,
   "id": "4932657f",
   "metadata": {},
   "outputs": [],
   "source": [
    "import numpy as np"
   ]
  },
  {
   "cell_type": "markdown",
   "id": "ecef9f1e",
   "metadata": {},
   "source": [
    "Функция «LU_decomposition» раскладывает квадратную матрицу А на матрицы L (нижняя треугольная) и U (верхняя треугольная)"
   ]
  },
  {
   "cell_type": "code",
   "execution_count": 3,
   "id": "eab9ec4d",
   "metadata": {},
   "outputs": [],
   "source": [
    "def LU_decomposition(A):\n",
    "\n",
    "    n = A.shape[0]\n",
    "    \n",
    "    L = np.identity(n)\n",
    "    U = A.copy()\n",
    "    \n",
    "    for i in range(n):\n",
    "            \n",
    "        multiplier = U[i + 1 :, i] / U[i, i]\n",
    "        L[i + 1 :, i] += multiplier\n",
    "        multiplier.resize(multiplier.size, 1)\n",
    "        U[i + 1 :] -= multiplier * U[i]\n",
    "        \n",
    "    return L, U"
   ]
  },
  {
   "cell_type": "markdown",
   "id": "63aee7c5",
   "metadata": {},
   "source": [
    "Задаём квадратную матрицу 3x3"
   ]
  },
  {
   "cell_type": "code",
   "execution_count": 4,
   "id": "252ccbe6",
   "metadata": {},
   "outputs": [],
   "source": [
    "A = np.array([[10, 20, 30.], \n",
    "              [0, -50, 60.], \n",
    "              [70, 40, 90.]])"
   ]
  },
  {
   "cell_type": "markdown",
   "id": "466befc0",
   "metadata": {},
   "source": [
    "Проверяем работу функции"
   ]
  },
  {
   "cell_type": "code",
   "execution_count": 5,
   "id": "66d5a673",
   "metadata": {},
   "outputs": [
    {
     "data": {
      "text/plain": [
       "(array([[1., 0., 0.],\n",
       "        [0., 1., 0.],\n",
       "        [7., 2., 1.]]),\n",
       " array([[  10.,   20.,   30.],\n",
       "        [   0.,  -50.,   60.],\n",
       "        [   0.,    0., -240.]]))"
      ]
     },
     "execution_count": 5,
     "metadata": {},
     "output_type": "execute_result"
    }
   ],
   "source": [
    "LU_decomposition(A)"
   ]
  },
  {
   "cell_type": "markdown",
   "id": "cb228da6",
   "metadata": {},
   "source": [
    "Проверяем А = LU"
   ]
  },
  {
   "cell_type": "code",
   "execution_count": 6,
   "id": "01b3bd5b",
   "metadata": {},
   "outputs": [
    {
     "data": {
      "text/plain": [
       "array([[ True,  True,  True],\n",
       "       [ True,  True,  True],\n",
       "       [ True,  True,  True]])"
      ]
     },
     "execution_count": 6,
     "metadata": {},
     "output_type": "execute_result"
    }
   ],
   "source": [
    "L, U = LU_decomposition(A)\n",
    "\n",
    "A == L.dot(U)"
   ]
  },
  {
   "cell_type": "markdown",
   "id": "87dfde28",
   "metadata": {},
   "source": [
    "Функция «SLAE_LU» находит решение СЛАУ с помощью LU-разложения. Функция принимает матрицу А и вектор-столбец х, возвращает вектор-столбец решений с округлением до сотых"
   ]
  },
  {
   "cell_type": "code",
   "execution_count": 7,
   "id": "f7a63257",
   "metadata": {},
   "outputs": [],
   "source": [
    "# y = Ux\n",
    "# b = Ly\n",
    "\n",
    "def SLAE_LU(A, b): \n",
    "    \n",
    "    L, U = LU_decomposition(A)\n",
    "    \n",
    "    n = L.shape[0]\n",
    "    \n",
    "    y = np.zeros_like(b, dtype=np.double) # Возвращает массив нулей той же формы и типа, что и заданный массив\n",
    "    \n",
    "    y[0] = b[0] / L[0, 0] # y1 = b1/l11\n",
    "    \n",
    "    for i in range(n):\n",
    "        y[i] = (b[i] - np.dot(L[i,:i], y[:i])) / L[i,i] # (bi - sum(from 1 to i-1)(Lij*yj))/Lii\n",
    "\n",
    "    m = L.shape[0]\n",
    "    \n",
    "    x = np.zeros_like(y, dtype=np.double)\n",
    "    \n",
    "    x[-1] = y[-1] / U[-1, -1] # # ym = bm/lm\n",
    "    \n",
    "    for i in range(m-2, -1, -1):\n",
    "        x[i] = (y[i] - np.dot(U[i,i:], x[i:])) / U[i,i] # (yi - sum(from i+1 to m)(Uij*xj))/Uii\n",
    "\n",
    "    return np.round(x, 2)"
   ]
  },
  {
   "cell_type": "markdown",
   "id": "96c27f5a",
   "metadata": {},
   "source": [
    "Задаём вектор-столбец"
   ]
  },
  {
   "cell_type": "code",
   "execution_count": 8,
   "id": "1a2bd58a",
   "metadata": {},
   "outputs": [],
   "source": [
    "b = np.array([[30], \n",
    "              [20], \n",
    "              [10]])"
   ]
  },
  {
   "cell_type": "markdown",
   "id": "86c09361",
   "metadata": {},
   "source": [
    "Проверяем работу функции"
   ]
  },
  {
   "cell_type": "code",
   "execution_count": 9,
   "id": "e8bcd1e1",
   "metadata": {},
   "outputs": [
    {
     "data": {
      "text/plain": [
       "array([[-1.6],\n",
       "       [ 0.8],\n",
       "       [ 1. ]])"
      ]
     },
     "execution_count": 9,
     "metadata": {},
     "output_type": "execute_result"
    }
   ],
   "source": [
    "SLAE_LU(A, b)"
   ]
  },
  {
   "cell_type": "markdown",
   "id": "bcd61f8d",
   "metadata": {},
   "source": [
    "Проверяем, совпадает ли результат при использовании linalg.solve"
   ]
  },
  {
   "cell_type": "code",
   "execution_count": 10,
   "id": "2bffbff2",
   "metadata": {},
   "outputs": [
    {
     "data": {
      "text/plain": [
       "array([[-1.6],\n",
       "       [ 0.8],\n",
       "       [ 1. ]])"
      ]
     },
     "execution_count": 10,
     "metadata": {},
     "output_type": "execute_result"
    }
   ],
   "source": [
    "np.round(np.linalg.solve(A, b), 2)"
   ]
  },
  {
   "cell_type": "markdown",
   "id": "13b3e33e",
   "metadata": {},
   "source": [
    "Проверяем, совпадает ли результат при использовании lu_factor и lu_solve библиотеки scipy.linalg"
   ]
  },
  {
   "cell_type": "code",
   "execution_count": 11,
   "id": "bfca67a9",
   "metadata": {},
   "outputs": [
    {
     "data": {
      "text/plain": [
       "array([[-1.6],\n",
       "       [ 0.8],\n",
       "       [ 1. ]])"
      ]
     },
     "execution_count": 11,
     "metadata": {},
     "output_type": "execute_result"
    }
   ],
   "source": [
    "\n",
    "from scipy.linalg import lu_factor, lu_solve\n",
    "\n",
    "np.round(lu_solve(lu_factor(A), b), 2)"
   ]
  }
 ],
 "metadata": {
  "kernelspec": {
   "display_name": "Python 3 (ipykernel)",
   "language": "python",
   "name": "python3"
  },
  "language_info": {
   "codemirror_mode": {
    "name": "ipython",
    "version": 3
   },
   "file_extension": ".py",
   "mimetype": "text/x-python",
   "name": "python",
   "nbconvert_exporter": "python",
   "pygments_lexer": "ipython3",
   "version": "3.9.7"
  }
 },
 "nbformat": 4,
 "nbformat_minor": 5
}
